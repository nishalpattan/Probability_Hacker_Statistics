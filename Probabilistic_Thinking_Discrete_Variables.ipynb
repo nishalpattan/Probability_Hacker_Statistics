{
 "cells": [
  {
   "cell_type": "markdown",
   "metadata": {},
   "source": [
    "### Bernouli Trials\n",
    "#### It is an experiment having two outcomes(Success and Failure)"
   ]
  },
  {
   "cell_type": "markdown",
   "metadata": {},
   "source": [
    "<img src='https://media.giphy.com/media/5EQC8eAnEAAZG/giphy.gif'>"
   ]
  },
  {
   "cell_type": "markdown",
   "metadata": {},
   "source": [
    "#### Simulating Coin Flips for Hacker Statistics"
   ]
  },
  {
   "cell_type": "code",
   "execution_count": 15,
   "metadata": {},
   "outputs": [],
   "source": [
    "%matplotlib inline\n",
    "import matplotlib.pyplot as plt\n",
    "import numpy as np\n",
    "np.random.seed(42) #assign seed value to 42 to generate pseudo random numbers"
   ]
  },
  {
   "cell_type": "markdown",
   "metadata": {},
   "source": [
    "##### Lets experiment with Coin flips, where the success is getting heads in all 6 trials\n",
    "##### For this lets draw a number between 0 & 1 and the threshold for getting heads is < 0.5 and getting tails >= 0.5"
   ]
  },
  {
   "cell_type": "code",
   "execution_count": 16,
   "metadata": {},
   "outputs": [
    {
     "name": "stdout",
     "output_type": "stream",
     "text": [
      "[ 0.37454012  0.95071431  0.73199394  0.59865848  0.15601864  0.15599452]\n"
     ]
    }
   ],
   "source": [
    "random_numbers = np.random.random(size = 6) #lets flip the coin 6 times and record the observations\n",
    "print(random_numbers)"
   ]
  },
  {
   "cell_type": "code",
   "execution_count": 17,
   "metadata": {},
   "outputs": [
    {
     "name": "stdout",
     "output_type": "stream",
     "text": [
      "[ True False False False  True  True]\n"
     ]
    }
   ],
   "source": [
    "heads = random_numbers < 0.5\n",
    "print(heads)"
   ]
  },
  {
   "cell_type": "code",
   "execution_count": 18,
   "metadata": {},
   "outputs": [
    {
     "name": "stdout",
     "output_type": "stream",
     "text": [
      "Out 6 trials , Heads occured :  3 times\n"
     ]
    }
   ],
   "source": [
    "print(\"Out 6 trials , Heads occured : \",np.sum(heads),\"times\")"
   ]
  },
  {
   "cell_type": "markdown",
   "metadata": {},
   "source": [
    "#### Lets calculate the probability of getting all 6 heads by repeating the experimenting again and again\n",
    "##### we can calculate this by number of times head appeared in all trials divided by total number of trials"
   ]
  },
  {
   "cell_type": "code",
   "execution_count": 19,
   "metadata": {},
   "outputs": [
    {
     "name": "stdout",
     "output_type": "stream",
     "text": [
      "Probability of getting all 6 heads in a coin flipping is :  0.0143\n"
     ]
    }
   ],
   "source": [
    "n_all_heads = 0\n",
    "for _ in range(10000):\n",
    "    heads = np.random.random(size = 6) < 0.5\n",
    "    n_heads = np.sum(heads)\n",
    "    if n_heads == 6:\n",
    "        n_all_heads += 1\n",
    "print(\"Probability of getting all 6 heads in a coin flipping is : \", n_all_heads/ 10000)"
   ]
  },
  {
   "cell_type": "markdown",
   "metadata": {},
   "source": [
    "##### Lets take another example where the mortagage loans are defaulted, say a bank made 100 mortagage loans and it wants to check out  the probability of all those 100 loans  turning out to be default and probability of getting defaulted is 0.05. Lets do this with Bernoulli trials\n",
    "\n",
    "#### Experiment this (100 loans turning to be defaulted) 1000 times\n"
   ]
  },
  {
   "cell_type": "code",
   "execution_count": 20,
   "metadata": {},
   "outputs": [],
   "source": [
    "def bernoulli_trials(n,p):\n",
    "    \"\"\"\n",
    "    params n : number of bernoulli trials\n",
    "    params p : probability of success\n",
    "    \"\"\"\n",
    "    n_success = 0\n",
    "    for i in range(n):\n",
    "        random_number = np.random.random()\n",
    "        if random_number < p:\n",
    "            n_success += 1\n",
    "    return n_success  "
   ]
  },
  {
   "cell_type": "code",
   "execution_count": 36,
   "metadata": {},
   "outputs": [
    {
     "data": {
      "image/png": "[encoded data removed]",
      "text/plain": [
       "<matplotlib.figure.Figure at 0x1b9c12c3dd8>"
      ]
     },
     "metadata": {},
     "output_type": "display_data"
    }
   ],
   "source": [
    "n_defaults = np.empty(1000)\n",
    "for i in range(1000):\n",
    "    n_defaults[i] = bernoulli_trials(100,0.05)\n",
    "plt.figure(figsize=(10,8))\n",
    "plt.subplot(3,1,1)    \n",
    "_ = plt.hist(n_defaults)\n",
    "_ = plt.xlabel(\"Number of defaults out of 100 loans\")\n",
    "_ = plt.ylabel(\"Number of times given number of defaults occured\")\n",
    "plt.subplot(3,1,2)   \n",
    "_ = plt.hist(n_defaults,normed=True)\n",
    "_ = plt.xlabel(\"Number of defaults out of 100 loans\")\n",
    "_ = plt.ylabel(\"Probability\")\n",
    "plt.tight_layout()"
   ]
  },
  {
   "cell_type": "markdown",
   "metadata": {},
   "source": [
    "#### Lets plot CDF of the mortagage loans getting defaulted"
   ]
  },
  {
   "cell_type": "code",
   "execution_count": 37,
   "metadata": {},
   "outputs": [],
   "source": [
    "def ecdf(data):\n",
    "    n = len(data)\n",
    "    x = np.sort(data)\n",
    "    y = np.arange(1,n+1)/n\n",
    "    return x,y"
   ]
  },
  {
   "cell_type": "code",
   "execution_count": 40,
   "metadata": {},
   "outputs": [
    {
     "data": {
      "image/png": "[encoded data removed]",
      "text/plain": [
       "<matplotlib.figure.Figure at 0x1b9c525a7f0>"
      ]
     },
     "metadata": {},
     "output_type": "display_data"
    }
   ],
   "source": [
    "x,y = ecdf(n_defaults)\n",
    "plt.plot(x,y,marker='.',linestyle='none')\n",
    "_ = plt.xlabel('Number of defaults')\n",
    "_ = plt.ylabel('Probability')"
   ]
  },
  {
   "cell_type": "markdown",
   "metadata": {},
   "source": [
    "#### Binomial Distribution\n",
    "##### This is similar to the coin flipping done previously. It is the number 'r' of heads in 6 coin flips with probability of success(heads) 0.5 is Binomially distributed"
   ]
  },
  {
   "cell_type": "markdown",
   "metadata": {},
   "source": [
    "##### coin flip experiment using np.random.binomial(num_of_trials , probability of success)\n"
   ]
  },
  {
   "cell_type": "code",
   "execution_count": 43,
   "metadata": {},
   "outputs": [
    {
     "name": "stdout",
     "output_type": "stream",
     "text": [
      "3 heads in 6 flips\n"
     ]
    }
   ],
   "source": [
    "print(np.random.binomial(6,0.5),\"heads in 6 flips\")"
   ]
  },
  {
   "cell_type": "markdown",
   "metadata": {},
   "source": [
    "##### using size parameter this trial be repeated number of times\n",
    "###### np.random.binomial(num_of_trials , probability of success, size = num_of_times to repeat the trial)"
   ]
  },
  {
   "cell_type": "code",
   "execution_count": 45,
   "metadata": {},
   "outputs": [],
   "source": [
    "samples = np.random.binomial(60, 0.1, size=10000)\n"
   ]
  },
  {
   "cell_type": "markdown",
   "metadata": {},
   "source": [
    "#### Binomial PMF\n",
    "##### this can be plotted using histograms like plotted below"
   ]
  },
  {
   "cell_type": "code",
   "execution_count": 48,
   "metadata": {},
   "outputs": [
    {
     "data": {
      "image/png": "[encoded data removed]",
      "text/plain": [
       "<matplotlib.figure.Figure at 0x1b9c53cb940>"
      ]
     },
     "metadata": {},
     "output_type": "display_data"
    }
   ],
   "source": [
    "bins = np.arange(0, max(samples) + 1.5) - 0.5\n",
    "_ = plt.hist(samples,normed=True,bins=bins)\n",
    "_ = plt.xlabel(\"number of successess\")\n",
    "_ = plt.ylabel(\"Probability\")"
   ]
  },
  {
   "cell_type": "markdown",
   "metadata": {},
   "source": [
    "#### Binomial CDF\n",
    "##### this can be plotted using ecdf funtion"
   ]
  },
  {
   "cell_type": "code",
   "execution_count": 47,
   "metadata": {},
   "outputs": [
    {
     "data": {
      "image/png": "[encoded data removed]",
      "text/plain": [
       "<matplotlib.figure.Figure at 0x1b9c52f8c18>"
      ]
     },
     "metadata": {},
     "output_type": "display_data"
    }
   ],
   "source": [
    "x,y = ecdf(samples)\n",
    "plt.plot(x,y,marker='.',linestyle='none')\n",
    "_ = plt.xlabel('Number of defaults')\n",
    "_ = plt.ylabel('CDF')"
   ]
  },
  {
   "cell_type": "code",
   "execution_count": null,
   "metadata": {},
   "outputs": [],
   "source": []
  }
 ],
 "metadata": {
  "kernelspec": {
   "display_name": "Python 3",
   "language": "python",
   "name": "python3"
  },
  "language_info": {
   "codemirror_mode": {
    "name": "ipython",
    "version": 3
   },
   "file_extension": ".py",
   "mimetype": "text/x-python",
   "name": "python",
   "nbconvert_exporter": "python",
   "pygments_lexer": "ipython3",
   "version": "3.6.3"
  }
 },
 "nbformat": 4,
 "nbformat_minor": 2
}
